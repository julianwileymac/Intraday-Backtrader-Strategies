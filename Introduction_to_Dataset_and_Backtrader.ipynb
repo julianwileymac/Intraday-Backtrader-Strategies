{
 "cells": [
  {
   "cell_type": "markdown",
   "source": [
    "# Introduction to Dataset and Backtrader"
   ],
   "metadata": {
    "collapsed": false
   }
  },
  {
   "cell_type": "markdown",
   "source": [
    "## 1. Dataset Introduction"
   ],
   "metadata": {
    "collapsed": false
   }
  },
  {
   "cell_type": "markdown",
   "source": [
    "The dataset we will be using is from AlgoSeek LLC, provided as part of the book Machine Learning for Trading by Stefan Jansen. It consists of data for the Nasdaq 100 stocks in their proprietary data format."
   ],
   "metadata": {
    "collapsed": false
   }
  },
  {
   "cell_type": "code",
   "execution_count": null,
   "outputs": [],
   "source": [],
   "metadata": {
    "collapsed": false
   }
  },
  {
   "cell_type": "code",
   "execution_count": null,
   "outputs": [],
   "source": [],
   "metadata": {
    "collapsed": false
   }
  },
  {
   "cell_type": "code",
   "execution_count": null,
   "outputs": [],
   "source": [
    "from urllib.request import Request, urlopen\n",
    "from io import BytesIO\n",
    "from zipfile import ZipFile\n",
    "\n",
    "\n",
    "def download_and_unzip(url, extract_to='.'):\n",
    "    http_response = urlopen(url)\n",
    "    zipfile = ZipFile(BytesIO(http_response.read()))\n",
    "    zipfile.extractall(path=extract_to)"
   ],
   "metadata": {
    "collapsed": false
   }
  },
  {
   "cell_type": "code",
   "execution_count": null,
   "outputs": [],
   "source": [
    "# download nasdaq100 data\n",
    "download_and_unzip('https://algoseek-public.s3.amazonaws.com/nasdaq100-1min.zip', extract_to='data')\n"
   ],
   "metadata": {
    "collapsed": false
   }
  },
  {
   "cell_type": "markdown",
   "source": [
    "## 2. Introduction to Backtrader"
   ],
   "metadata": {
    "collapsed": false
   }
  },
  {
   "cell_type": "markdown",
   "source": [
    "Backtrader is an extremely popular backtesting tool for testing trading strategies on historical stock data."
   ],
   "metadata": {
    "collapsed": false
   }
  },
  {
   "cell_type": "code",
   "execution_count": null,
   "outputs": [],
   "source": [],
   "metadata": {
    "collapsed": false
   }
  },
  {
   "cell_type": "code",
   "execution_count": null,
   "outputs": [],
   "source": [],
   "metadata": {
    "collapsed": false
   }
  },
  {
   "cell_type": "code",
   "execution_count": null,
   "outputs": [],
   "source": [
    "import backtrader as bt\n",
    "import backtrader.feeds as btfeeds\n",
    "import backtrader.analyzers as btanalyzers\n",
    "from backtrader.feed import DataBase\n",
    "from backtrader import date2num\n",
    "from backtrader import TimeFrame\n",
    "import os\n",
    "import pytz\n",
    "from pytz import timezone\n",
    "import json\n",
    "import time\n",
    "import itertools\n",
    "import datetime\n",
    "\n",
    "# More documentation about backtrader: https://www.backtrader.com/\n",
    "\n",
    "class AlgoStrategy():\n",
    "\n",
    "    def __init__(self,strategy):\n",
    "        self.cerebro = bt.Cerebro()\n",
    "        strategy.init_broker(self.cerebro.broker)\n",
    "        data=strategy.add_data(self.cerebro)\n",
    "        strategy.data=data\n",
    "\n",
    "        self.cerebro.addstrategy(strategy)\n",
    "\n",
    "        self.portfolioStartValue=self.cerebro.broker.getvalue()\n",
    "        self.cerebro.addanalyzer(btanalyzers.DrawDown, _name='dd')\n",
    "        self.cerebro.addanalyzer(btanalyzers.SharpeRatio_A, _name='sharpe')\n",
    "        self.cerebro.addanalyzer(btanalyzers.SQN, _name='sqn')\n",
    "        self.cerebro.addanalyzer(btanalyzers.TradeAnalyzer, _name='ta')\n",
    "\n",
    "    def performance(self):\n",
    "        analyzer=self.thestrat.analyzers.ta.get_analysis()\n",
    "        dd_analyzer=self.thestrat.analyzers.dd.get_analysis()\n",
    "\n",
    "        #Get the results we are interested in\n",
    "        total_open = analyzer.total.open\n",
    "        total_closed = analyzer.total.closed\n",
    "        total_won = analyzer.won.total\n",
    "        total_lost = analyzer.lost.total\n",
    "        win_streak = analyzer.streak.won.longest\n",
    "        lose_streak = analyzer.streak.lost.longest\n",
    "        pnl_net = round(analyzer.pnl.net.total,2)\n",
    "        strike_rate=0\n",
    "        if total_closed>0:\n",
    "            strike_rate = (total_won / total_closed) * 100\n",
    "        #Designate the rows\n",
    "        h1 = ['Total Open', 'Total Closed', 'Total Won', 'Total Lost']\n",
    "        h2 = ['Strike Rate','Win Streak', 'Losing Streak', 'PnL Net']\n",
    "        h3 = ['DrawDown Pct','MoneyDown', '', '']\n",
    "        self.total_closed=total_closed\n",
    "        self.strike_rate=strike_rate\n",
    "        self.max_drawdown=dd_analyzer.max.drawdown\n",
    "        r1 = [total_open, total_closed,total_won,total_lost]\n",
    "        r2 = [('%.2f%%' %(strike_rate)), win_streak, lose_streak, pnl_net]\n",
    "        r3 = [('%.2f%%' %(dd_analyzer.max.drawdown)), dd_analyzer.max.moneydown, '', '']\n",
    "        #Check which set of headers is the longest.\n",
    "        header_length = max(len(h1),len(h2),len(h3))\n",
    "        #Print the rows\n",
    "        print_list = [h1,r1,h2,r2,h3,r3]\n",
    "        row_format =\"{:<15}\" * (header_length + 1)\n",
    "        print(\"Trade Analysis Results:\")\n",
    "        for row in print_list:\n",
    "            print(row_format.format('',*row))\n",
    "\n",
    "        analyzer=self.thestrat.analyzers.sqn.get_analysis()\n",
    "        sharpe_analyzer=self.thestrat.analyzers.sharpe.get_analysis()\n",
    "        self.sqn = analyzer.sqn\n",
    "        self.sharpe_ratio = sharpe_analyzer['sharperatio']\n",
    "        if self.sharpe_ratio is None:\n",
    "            self.sharpe_ratio=0\n",
    "        self.pnl = self.cerebro.broker.getvalue()-self.portfolioStartValue\n",
    "        print('[SQN:%.2f, Sharpe Ratio:%.2f, Final Portfolio:%.2f, Total PnL:%.2f]' % (self.sqn,self.sharpe_ratio,self.cerebro.broker.getvalue(),self.pnl))\n",
    "\n",
    "    def run(self):\n",
    "        thestrats = self.cerebro.run()\n",
    "        self.thestrat = thestrats[0]\n",
    "        self.performance()\n",
    "\n",
    "class MyFeed(DataBase):\n",
    "    def __init__(self):\n",
    "        super(MyFeed, self).__init__()\n",
    "        self.list=testData.select(\"start\", \"open\", \"high\", \"low\", \"close\", \"volume\", \"vwap\", \"exponential_moving_average\").collect()\n",
    "        # AlgoSeek Columns:\n",
    "        # Date,Ticker,TimeBarStart,OpenBarTime,OpenBidPrice,OpenBidSize,OpenAskPrice,OpenAskSize,FirstTradeTime,FirstTradePrice,FirstTradeSize,HighBidTime,HighBidPrice,HighBidSize,HighAskTime,HighAskPrice,HighAskSize,HighTradeTime,HighTradePrice,HighTradeSize,LowBidTime,LowBidPrice,LowBidSize,LowAskTime,LowAskPrice,LowAskSize,LowTradeTime,LowTradePrice,LowTradeSize,CloseBarTime,CloseBidPrice,CloseBidSize,CloseAskPrice,CloseAskSize,LastTradeTime,LastTradePrice,LastTradeSize,MinSpread,MaxSpread,CancelSize,VolumeWeightPrice,NBBOQuoteCount,TradeAtBid,TradeAtBidMid,TradeAtMid,TradeAtMidAsk,TradeAtAsk,TradeAtCrossOrLocked,Volume,TotalTrades,FinraVolume,FinraVolumeWeightPrice,UptickVolume,DowntickVolume,RepeatUptickVolume,RepeatDowntickVolume,UnknownTickVolume,TradeToMidVolWeight,TradeToMidVolWeightRelative,TimeWeightBid,TimeWeightAsk\n",
    "\n",
    "        self.n=0\n",
    "\n",
    "        self.fromdate=self.list[0]['start']\n",
    "        self.todate=self.list[len(self.list)-1]['start']\n",
    "        self.timeframe=bt.TimeFrame.Minutes\n",
    "        print(\"from=%s,to=%s\" % (self.fromdate,self.todate))\n",
    "\n",
    "        self.m={}\n",
    "        #print(self.list)\n",
    "\n",
    "    def start(self):\n",
    "        # Nothing to do for this data feed type\n",
    "        pass\n",
    "\n",
    "    def stop(self):\n",
    "        # Nothing to do for this data feed type\n",
    "        pass\n",
    "\n",
    "    def _load(self):\n",
    "        if self.n>=len(self.list):\n",
    "            return False\n",
    "\n",
    "        r=self.list[self.n]\n",
    "        self.lines.datetime[0] = date2num(r['start'])\n",
    "\n",
    "        self.lines.open[0] = r['open']\n",
    "        self.lines.high[0] = r['high']\n",
    "        self.lines.low[0] = r['low']\n",
    "        self.lines.close[0] = r['close']\n",
    "        self.lines.volume[0] = r['volume']\n",
    "        self.m[r['start']]=r\n",
    "\n",
    "        self.n=self.n+1\n",
    "        return True\n",
    "\n",
    "class StrategyTemplate(bt.Strategy):\n",
    "\n",
    "    def __init__(self):\n",
    "        self.lastDay=-1\n",
    "        self.lastMonth=-1\n",
    "        self.dataclose = self.datas[0].close\n",
    "\n",
    "    @staticmethod\n",
    "    def init_broker(broker):\n",
    "        pass\n",
    "\n",
    "    @staticmethod\n",
    "    def add_data(cerebro):\n",
    "        pass\n",
    "\n",
    "    def next(self):\n",
    "        dt=self.datas[0].datetime.datetime(0)\n",
    "        #print(\"[NEXT]:%s:close=%s\" % (dt,self.dataclose[0]))\n",
    "\n",
    "        #SOM\n",
    "        if self.lastMonth!=dt.month:\n",
    "            if self.lastMonth!=-1:\n",
    "                chg=self.broker.getvalue()-self.monthCash\n",
    "                #print(\"[%s] SOM:chg=%.2f,cash=%.2f\" % (dt,chg,self.broker.getvalue()))\n",
    "            self.lastMonth=dt.month\n",
    "            self.monthCash=self.broker.getvalue()\n",
    "\n",
    "        #SOD\n",
    "        if self.lastDay!=dt.day:\n",
    "            self.lastDay=dt.day\n",
    "            #print(\"[%s] SOD:cash=%.2f\" % (dt,self.broker.getvalue()))\n"
   ],
   "metadata": {
    "collapsed": false
   }
  },
  {
   "cell_type": "code",
   "execution_count": null,
   "outputs": [],
   "source": [
    "class AlgoSeekDataFeed(DataBase):\n",
    "    def __init__(self):\n",
    "        super(MyFeed, self).__init__()\n",
    "        self.list=testData.select(\"start\", \"open\", \"high\", \"low\", \"close\", \"volume\", \"vwap\", \"exponential_moving_average\").collect()\n",
    "        params = (\n",
    "            ('datetime','TimeBarStart'),\n",
    "            ('open', -1),\n",
    "            ('high', -1),\n",
    "            ('low', -1),\n",
    "            ('close', -1),\n",
    "            ('volume', -1),\n",
    "            ('TimeBarStart', 3),('OpenBarTime',4),('OpenBidPrice',-1),('OpenBidSize', -1),('OpenAskPrice', -1),('OpenAskSize', -1),('FirstTradeTime', -1),('FirstTradePrice',-1),('FirstTradeSize', -1),('HighBidTime',-1),('HighBidPrice', -1),('HighBidSize',-1),('HighAskTime', -1),('HighAskPrice', -1),('HighAskSize', ),('HighTradeTime', -1),('HighTradePrice', -1),('HighTradeSize', -1),('LowBidTime', -1),('LowBidPrice', -1),('LowBidSize', -1),('LowAskTime', -1),('LowAskPrice', -1),('LowAskSize', -1),('LowTradeTime', -1),('LowTradePrice', -1),('LowTradeSize', -1),('CloseBarTime', -1),('CloseBidPrice', -1),('CloseBidSize', -1),('CloseAskPrice', -1),('CloseAskSize', -1),('LastTradeTime' -1),('LastTradePrice', -1),('LastTradeSize', -1),('MinSpread', -1),('MaxSpread', -1),('CancelSize', -1),('VolumeWeightPrice', -1),('NBBOQuoteCount', -1),('TradeAtBid', -1),('TradeAtBidMid', -1),('TradeAtMid', -1),('TradeAtMidAsk', -1),('TradeAtAsk', -1),('TradeAtCrossOrLocked', -1),('Volume', -1),('TotalTrades', -1),('FinraVolume', -1),('FinraVolumeWeightPrice', -1),('UptickVolume', -1),('DowntickVolume', -1),('RepeatUptickVolume', -1),('RepeatDowntickVolume', -1),('UnknownTickVolume', -1),('TradeToMidVolWeight', -1),('TradeToMidVolWeightRelative', -1),('TimeWeightBid', -1),('TimeWeightAsk', -1)\n",
    "        )\n",
    "        # AlgoSeek Columns:\n",
    "        # Date,Ticker,TimeBarStart,OpenBarTime,OpenBidPrice,OpenBidSize,OpenAskPrice,OpenAskSize,FirstTradeTime,FirstTradePrice,FirstTradeSize,HighBidTime,HighBidPrice,HighBidSize,HighAskTime,HighAskPrice,HighAskSize,HighTradeTime,HighTradePrice,HighTradeSize,LowBidTime,LowBidPrice,LowBidSize,LowAskTime,LowAskPrice,LowAskSize,LowTradeTime,LowTradePrice,LowTradeSize,CloseBarTime,CloseBidPrice,CloseBidSize,CloseAskPrice,CloseAskSize,LastTradeTime,LastTradePrice,LastTradeSize,MinSpread,MaxSpread,CancelSize,VolumeWeightPrice,NBBOQuoteCount,TradeAtBid,TradeAtBidMid,TradeAtMid,TradeAtMidAsk,TradeAtAsk,TradeAtCrossOrLocked,Volume,TotalTrades,FinraVolume,FinraVolumeWeightPrice,UptickVolume,DowntickVolume,RepeatUptickVolume,RepeatDowntickVolume,UnknownTickVolume,TradeToMidVolWeight,TradeToMidVolWeightRelative,TimeWeightBid,TimeWeightAsk\n",
    "\n",
    "        self.n=0\n",
    "\n",
    "        self.fromdate=self.list[0]['start']\n",
    "        self.todate=self.list[len(self.list)-1]['start']\n",
    "        self.timeframe=bt.TimeFrame.Minutes\n",
    "        print(\"from=%s,to=%s\" % (self.fromdate,self.todate))\n",
    "\n",
    "        self.m={}\n",
    "        #print(self.list)\n",
    "\n",
    "    def start(self):\n",
    "        # Nothing to do for this data feed type\n",
    "        pass\n",
    "\n",
    "    def stop(self):\n",
    "        # Nothing to do for this data feed type\n",
    "        pass\n",
    "\n",
    "    def _load(self):\n",
    "        if self.n>=len(self.list):\n",
    "            return False\n",
    "\n",
    "        r=self.list[self.n]\n",
    "        self.lines.datetime[0] = date2num(r['start'])\n",
    "\n",
    "        self.lines.open[0] = r['open']\n",
    "        self.lines.high[0] = r['high']\n",
    "        self.lines.low[0] = r['low']\n",
    "        self.lines.close[0] = r['close']\n",
    "        self.lines.volume[0] = r['volume']\n",
    "        self.m[r['start']]=r\n",
    "\n",
    "        self.n=self.n+1\n",
    "        return True\n"
   ],
   "metadata": {
    "collapsed": false
   }
  },
  {
   "cell_type": "code",
   "execution_count": null,
   "outputs": [],
   "source": [
    "class AlgoSeekDataFeed(DataBase):\n",
    "    def __init__(self):\n",
    "        super(MyFeed, self).__init__()\n",
    "        self.list=testData.select(\"start\", \"open\", \"high\", \"low\", \"close\", \"volume\", \"vwap\", \"exponential_moving_average\").collect()\n",
    "\n",
    "        # AlgoSeek Columns:\n",
    "        # Date,Ticker,TimeBarStart,OpenBarTime,OpenBidPrice,OpenBidSize,OpenAskPrice,OpenAskSize,FirstTradeTime,FirstTradePrice,FirstTradeSize,HighBidTime,HighBidPrice,HighBidSize,HighAskTime,HighAskPrice,HighAskSize,HighTradeTime,HighTradePrice,HighTradeSize,LowBidTime,LowBidPrice,LowBidSize,LowAskTime,LowAskPrice,LowAskSize,LowTradeTime,LowTradePrice,LowTradeSize,CloseBarTime,CloseBidPrice,CloseBidSize,CloseAskPrice,CloseAskSize,LastTradeTime,LastTradePrice,LastTradeSize,MinSpread,MaxSpread,CancelSize,VolumeWeightPrice,NBBOQuoteCount,TradeAtBid,TradeAtBidMid,TradeAtMid,TradeAtMidAsk,TradeAtAsk,TradeAtCrossOrLocked,Volume,TotalTrades,FinraVolume,FinraVolumeWeightPrice,UptickVolume,DowntickVolume,RepeatUptickVolume,RepeatDowntickVolume,UnknownTickVolume,TradeToMidVolWeight,TradeToMidVolWeightRelative,TimeWeightBid,TimeWeightAsk\n",
    "\n",
    "        self.n=0\n",
    "\n",
    "        self.fromdate=self.list[0]['start']\n",
    "        self.todate=self.list[len(self.list)-1]['start']\n",
    "        self.timeframe=bt.TimeFrame.Minutes\n",
    "        print(\"from=%s,to=%s\" % (self.fromdate,self.todate))\n",
    "\n",
    "        self.m={}\n",
    "        #print(self.list)\n",
    "\n",
    "    def start(self):\n",
    "        # Nothing to do for this data feed type\n",
    "        pass\n",
    "\n",
    "    def stop(self):\n",
    "        # Nothing to do for this data feed type\n",
    "        pass\n",
    "\n",
    "    def _load(self):\n",
    "        if self.n>=len(self.list):\n",
    "            return False\n",
    "\n",
    "        r=self.list[self.n]\n",
    "        self.lines.datetime[0] = date2num(r['start'])\n",
    "\n",
    "        self.lines.open[0] = r['open']\n",
    "        self.lines.high[0] = r['high']\n",
    "        self.lines.low[0] = r['low']\n",
    "        self.lines.close[0] = r['close']\n",
    "        self.lines.volume[0] = r['volume']\n",
    "        self.m[r['start']]=r\n",
    "\n",
    "        self.n=self.n+1\n",
    "        return True\n"
   ],
   "metadata": {
    "collapsed": false
   }
  },
  {
   "cell_type": "code",
   "execution_count": null,
   "outputs": [],
   "source": [
    "class MyStrategy(StrategyTemplate):\n",
    "\n",
    "    def __init__(self):  # Initiation\n",
    "        super(MyStrategy, self).__init__()\n",
    "\n",
    "    def init_broker(broker):\n",
    "        broker.setcash(1000000.0)\n",
    "        broker.setcommission(commission=0.0)\n",
    "\n",
    "    def add_data(cerebro):\n",
    "        data = MyFeed()\n",
    "        cerebro.adddata(data)\n",
    "        return data\n",
    "\n",
    "    def next(self):  # Processing\n",
    "        super(MyStrategy, self).next()\n",
    "        dt=self.datas[0].datetime.datetime(0)\n",
    "        r=self.data.m[dt]\n",
    "        #print(r)\n",
    "        size=self.cerebro.strat_params['size']\n",
    "        threshold_PctChg=self.cerebro.strat_params['pct_chg']\n",
    "\n",
    "        model=self.cerebro.strat_params['model']\n",
    "        df=spark.createDataFrame([r])\n",
    "        VWAP=r['vwap']\n",
    "        predictedVWAP = model.transform(df).collect()[0]['prediction']\n",
    "        expectedPctChg=(predictedVWAP-VWAP)/VWAP*100.0\n",
    "\n",
    "        goLong=expectedPctChg>threshold_PctChg\n",
    "        goShort=expectedPctChg<-threshold_PctChg\n",
    "        #print(\"expectedPctChg=%s,goLong=%s,goShort=%s\" % (expectedPctChg,goLong,goShort))\n",
    "\n",
    "        if not self.position:\n",
    "            if goLong:\n",
    "                print(\"%s:%s x BUY @ %.2f\" % (dt,size,r['close']))\n",
    "                self.buy(size=size) # Go long\n",
    "            else:\n",
    "                print(\"%s:%s x SELL @ %.2f\" % (dt,size,r['close']))\n",
    "                self.sell(size=size) # Go short\n",
    "        elif self.position.size>0 and goShort:\n",
    "            print(\"%s:%s x SELL @ %.2f\" % (dt,size*2,r['close']))\n",
    "            self.sell(size=size*2)\n",
    "        elif self.position.size<0 and goLong:\n",
    "            print(\"%s:%s x BUY @ %.2f\" % (dt,size*2,r['close']))\n",
    "            self.buy(size=size*2)\n"
   ],
   "metadata": {
    "collapsed": false
   }
  }
 ],
 "metadata": {
  "kernelspec": {
   "display_name": "Python 3",
   "language": "python",
   "name": "python3"
  },
  "language_info": {
   "codemirror_mode": {
    "name": "ipython",
    "version": 2
   },
   "file_extension": ".py",
   "mimetype": "text/x-python",
   "name": "python",
   "nbconvert_exporter": "python",
   "pygments_lexer": "ipython2",
   "version": "2.7.6"
  }
 },
 "nbformat": 4,
 "nbformat_minor": 0
}
